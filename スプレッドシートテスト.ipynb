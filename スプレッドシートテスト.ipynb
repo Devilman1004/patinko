{
 "cells": [
  {
   "cell_type": "code",
   "execution_count": 35,
   "metadata": {},
   "outputs": [],
   "source": [
    "import streamlit as st\n",
    "import numpy as np\n",
    "import pandas as pd\n",
    "from PIL import Image\n",
    "import gspread\n",
    "import json\n",
    "import pandas as pd\n",
    "#ServiceAccountCredentials：Googleの各サービスへアクセスできるservice変数を生成します。\n",
    "from oauth2client.service_account import ServiceAccountCredentials\n",
    "\n",
    "#2つのAPIを記述しないとリフレッシュトークンを3600秒毎に発行し続けなければならない\n",
    "scope = ['https://spreadsheets.google.com/feeds','https://www.googleapis.com/auth/drive']\n",
    "json_path = 'kitaichi-fd2dd716665b.json'\n",
    "#認証情報設定\n",
    "#ダウンロードしたjsonファイル名をクレデンシャル変数に設定（秘密鍵、Pythonファイルから読み込みしやすい位置に置く）\n",
    "credentials = ServiceAccountCredentials.from_json_keyfile_name(json_path, scope)\n",
    "#OAuth2の資格情報を使用してGoogle APIにログインします。\n",
    "gc = gspread.authorize(credentials)\n",
    "# １．ファイル名を指定してワークブックを選択\n",
    "workbook = gc.open('収支表')\n",
    "sh_shop = workbook.worksheet('店一覧')\n",
    "sh_slot_kisyu = workbook.worksheet('スロット機種一覧')\n",
    "df_shop = pd.DataFrame(sh_shop.get_all_values()[1:], columns=sh_shop.get_all_values()[0])\n",
    "df_slot_kisyu = pd.DataFrame(sh_slot_kisyu.get_all_values()[1:], columns=sh_slot_kisyu.get_all_values()[0])\n",
    "sh = workbook.worksheet('収支')\n",
    "df = pd.DataFrame(sh.get_all_values()[1:], columns=sh.get_all_values()[0])"
   ]
  },
  {
   "cell_type": "code",
   "execution_count": 39,
   "metadata": {},
   "outputs": [
    {
     "data": {
      "text/html": [
       "<div>\n",
       "<style scoped>\n",
       "    .dataframe tbody tr th:only-of-type {\n",
       "        vertical-align: middle;\n",
       "    }\n",
       "\n",
       "    .dataframe tbody tr th {\n",
       "        vertical-align: top;\n",
       "    }\n",
       "\n",
       "    .dataframe thead th {\n",
       "        text-align: right;\n",
       "    }\n",
       "</style>\n",
       "<table border=\"1\" class=\"dataframe\">\n",
       "  <thead>\n",
       "    <tr style=\"text-align: right;\">\n",
       "      <th></th>\n",
       "      <th>年月日</th>\n",
       "      <th>開始時間</th>\n",
       "      <th>終了時間</th>\n",
       "      <th>店舗名</th>\n",
       "      <th>台番号</th>\n",
       "      <th>機種名</th>\n",
       "      <th>開始G数</th>\n",
       "      <th>当選G数</th>\n",
       "      <th>ヤメG数</th>\n",
       "      <th>投資金額</th>\n",
       "      <th>投資メダル枚数</th>\n",
       "      <th>回収金額</th>\n",
       "      <th>回収メダル枚数</th>\n",
       "      <th>期待値</th>\n",
       "      <th>収支金額</th>\n",
       "      <th>収支メダル枚数</th>\n",
       "      <th>備考</th>\n",
       "    </tr>\n",
       "  </thead>\n",
       "  <tbody>\n",
       "    <tr>\n",
       "      <th>26</th>\n",
       "      <td>2022-12-02</td>\n",
       "      <td>10:54:38</td>\n",
       "      <td></td>\n",
       "      <td>ガイア小郡</td>\n",
       "      <td>1300</td>\n",
       "      <td>ヴァルヴレイヴ</td>\n",
       "      <td>856</td>\n",
       "      <td>1400</td>\n",
       "      <td>0</td>\n",
       "      <td>20680</td>\n",
       "      <td>1034</td>\n",
       "      <td>25000</td>\n",
       "      <td>1300</td>\n",
       "      <td>2700</td>\n",
       "      <td></td>\n",
       "      <td></td>\n",
       "      <td></td>\n",
       "    </tr>\n",
       "  </tbody>\n",
       "</table>\n",
       "</div>"
      ],
      "text/plain": [
       "           年月日      開始時間 終了時間    店舗名   台番号      機種名 開始G数  当選G数 ヤメG数   投資金額  \\\n",
       "26  2022-12-02  10:54:38       ガイア小郡  1300  ヴァルヴレイヴ  856  1400    0  20680   \n",
       "\n",
       "   投資メダル枚数   回収金額 回収メダル枚数   期待値 収支金額 収支メダル枚数 備考  \n",
       "26    1034  25000    1300  2700                  "
      ]
     },
     "execution_count": 39,
     "metadata": {},
     "output_type": "execute_result"
    }
   ],
   "source": [
    "df.tail(1)"
   ]
  },
  {
   "cell_type": "code",
   "execution_count": 40,
   "metadata": {},
   "outputs": [
    {
     "data": {
      "text/plain": [
       "1034"
      ]
     },
     "execution_count": 40,
     "metadata": {},
     "output_type": "execute_result"
    }
   ],
   "source": [
    "int(df.at[26,'投資金額'])\n",
    "int(df.at[26,'投資メダル枚数'])"
   ]
  },
  {
   "cell_type": "code",
   "execution_count": 41,
   "metadata": {},
   "outputs": [
    {
     "data": {
      "text/html": [
       "<div>\n",
       "<style scoped>\n",
       "    .dataframe tbody tr th:only-of-type {\n",
       "        vertical-align: middle;\n",
       "    }\n",
       "\n",
       "    .dataframe tbody tr th {\n",
       "        vertical-align: top;\n",
       "    }\n",
       "\n",
       "    .dataframe thead th {\n",
       "        text-align: right;\n",
       "    }\n",
       "</style>\n",
       "<table border=\"1\" class=\"dataframe\">\n",
       "  <thead>\n",
       "    <tr style=\"text-align: right;\">\n",
       "      <th></th>\n",
       "      <th>店番号</th>\n",
       "      <th>店名</th>\n",
       "      <th>交換率</th>\n",
       "      <th>換金率</th>\n",
       "      <th>貯メダル数</th>\n",
       "      <th>現金換算</th>\n",
       "    </tr>\n",
       "  </thead>\n",
       "  <tbody>\n",
       "    <tr>\n",
       "      <th>0</th>\n",
       "      <td>shop_01</td>\n",
       "      <td>ダイナム宇部港町店</td>\n",
       "      <td>90</td>\n",
       "      <td>100</td>\n",
       "      <td>1400</td>\n",
       "      <td>14000</td>\n",
       "    </tr>\n",
       "    <tr>\n",
       "      <th>1</th>\n",
       "      <td>shop_02</td>\n",
       "      <td>ダイナム小郡店</td>\n",
       "      <td>46</td>\n",
       "      <td>53</td>\n",
       "      <td>1450</td>\n",
       "      <td>27358</td>\n",
       "    </tr>\n",
       "    <tr>\n",
       "      <th>2</th>\n",
       "      <td>shop_03</td>\n",
       "      <td>メガガイア小郡店</td>\n",
       "      <td>46</td>\n",
       "      <td>52</td>\n",
       "      <td>600</td>\n",
       "      <td>11538</td>\n",
       "    </tr>\n",
       "    <tr>\n",
       "      <th>3</th>\n",
       "      <td>shop_04</td>\n",
       "      <td>RITZ 新山口店</td>\n",
       "      <td>50</td>\n",
       "      <td>56</td>\n",
       "      <td>100</td>\n",
       "      <td>1786</td>\n",
       "    </tr>\n",
       "    <tr>\n",
       "      <th>4</th>\n",
       "      <td>shop_05</td>\n",
       "      <td>ダイナム阿知須店</td>\n",
       "      <td>46</td>\n",
       "      <td>53</td>\n",
       "      <td>0</td>\n",
       "      <td>0</td>\n",
       "    </tr>\n",
       "    <tr>\n",
       "      <th>5</th>\n",
       "      <td>shop_06</td>\n",
       "      <td>テキサス山口店</td>\n",
       "      <td>50</td>\n",
       "      <td>56</td>\n",
       "      <td>0</td>\n",
       "      <td>0</td>\n",
       "    </tr>\n",
       "    <tr>\n",
       "      <th>6</th>\n",
       "      <td>shop_07</td>\n",
       "      <td>ピー・パーク</td>\n",
       "      <td>50</td>\n",
       "      <td>56</td>\n",
       "      <td>0</td>\n",
       "      <td>0</td>\n",
       "    </tr>\n",
       "    <tr>\n",
       "      <th>7</th>\n",
       "      <td>shop_08</td>\n",
       "      <td>ＶＩＰ山口店</td>\n",
       "      <td>47</td>\n",
       "      <td>53</td>\n",
       "      <td>0</td>\n",
       "      <td>0</td>\n",
       "    </tr>\n",
       "    <tr>\n",
       "      <th>8</th>\n",
       "      <td>shop_09</td>\n",
       "      <td>プレイランドエイト</td>\n",
       "      <td>47</td>\n",
       "      <td>53</td>\n",
       "      <td>0</td>\n",
       "      <td>0</td>\n",
       "    </tr>\n",
       "  </tbody>\n",
       "</table>\n",
       "</div>"
      ],
      "text/plain": [
       "       店番号         店名 交換率  換金率 貯メダル数   現金換算\n",
       "0  shop_01  ダイナム宇部港町店  90  100  1400  14000\n",
       "1  shop_02    ダイナム小郡店  46   53  1450  27358\n",
       "2  shop_03   メガガイア小郡店  46   52   600  11538\n",
       "3  shop_04  RITZ 新山口店  50   56   100   1786\n",
       "4  shop_05   ダイナム阿知須店  46   53     0      0\n",
       "5  shop_06    テキサス山口店  50   56     0      0\n",
       "6  shop_07     ピー・パーク  50   56     0      0\n",
       "7  shop_08     ＶＩＰ山口店  47   53     0      0\n",
       "8  shop_09  プレイランドエイト  47   53     0      0"
      ]
     },
     "execution_count": 41,
     "metadata": {},
     "output_type": "execute_result"
    }
   ],
   "source": [
    "df_shop"
   ]
  },
  {
   "cell_type": "code",
   "execution_count": 43,
   "metadata": {},
   "outputs": [
    {
     "data": {
      "text/plain": [
       "('ダイナム宇部港町店',\n",
       " 'ダイナム小郡店',\n",
       " 'メガガイア小郡店',\n",
       " 'RITZ 新山口店',\n",
       " 'ダイナム阿知須店',\n",
       " 'テキサス山口店',\n",
       " 'ピー・パーク',\n",
       " 'ＶＩＰ山口店',\n",
       " 'プレイランドエイト')"
      ]
     },
     "execution_count": 43,
     "metadata": {},
     "output_type": "execute_result"
    }
   ],
   "source": [
    "tuple(df_shop['店名'])"
   ]
  },
  {
   "cell_type": "code",
   "execution_count": null,
   "metadata": {},
   "outputs": [],
   "source": []
  }
 ],
 "metadata": {
  "kernelspec": {
   "display_name": "Python 3.9.4 64-bit",
   "language": "python",
   "name": "python3"
  },
  "language_info": {
   "codemirror_mode": {
    "name": "ipython",
    "version": 3
   },
   "file_extension": ".py",
   "mimetype": "text/x-python",
   "name": "python",
   "nbconvert_exporter": "python",
   "pygments_lexer": "ipython3",
   "version": "3.9.4"
  },
  "orig_nbformat": 4,
  "vscode": {
   "interpreter": {
    "hash": "bf0c553b6161751b685220bcf1348fbbe7b5c4a42d195c2e7421759f76dba487"
   }
  }
 },
 "nbformat": 4,
 "nbformat_minor": 2
}
