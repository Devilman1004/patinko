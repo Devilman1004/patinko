{
 "cells": [
  {
   "cell_type": "code",
   "execution_count": 1,
   "metadata": {},
   "outputs": [],
   "source": [
    "import streamlit as st\n",
    "import numpy as np\n",
    "import pandas as pd\n",
    "from PIL import Image\n",
    "import gspread\n",
    "import json\n",
    "import pandas as pd\n",
    "#ServiceAccountCredentials：Googleの各サービスへアクセスできるservice変数を生成します。\n",
    "from oauth2client.service_account import ServiceAccountCredentials\n",
    "\n",
    "#2つのAPIを記述しないとリフレッシュトークンを3600秒毎に発行し続けなければならない\n",
    "scope = ['https://spreadsheets.google.com/feeds','https://www.googleapis.com/auth/drive']\n",
    "json_path = 'kitaichi-fd2dd716665b.json'\n",
    "#認証情報設定\n",
    "#ダウンロードしたjsonファイル名をクレデンシャル変数に設定（秘密鍵、Pythonファイルから読み込みしやすい位置に置く）\n",
    "credentials = ServiceAccountCredentials.from_json_keyfile_name(json_path, scope)\n",
    "#OAuth2の資格情報を使用してGoogle APIにログインします。\n",
    "gc = gspread.authorize(credentials)\n",
    "# １．ファイル名を指定してワークブックを選択\n",
    "workbook = gc.open('収支表')\n",
    "sh_shop = workbook.worksheet('店一覧')\n",
    "sh_slot_kisyu = workbook.worksheet('スロット機種一覧')\n",
    "df_shop = pd.DataFrame(sh_shop.get_all_values()[1:], columns=sh_shop.get_all_values()[0])\n",
    "df_slot_kisyu = pd.DataFrame(sh_slot_kisyu.get_all_values()[1:], columns=sh_slot_kisyu.get_all_values()[0])\n",
    "sh = workbook.worksheet('収支')\n",
    "df = pd.DataFrame(sh.get_all_values()[1:], columns=sh.get_all_values()[0])"
   ]
  },
  {
   "cell_type": "code",
   "execution_count": 2,
   "metadata": {},
   "outputs": [
    {
     "data": {
      "text/html": [
       "<div>\n",
       "<style scoped>\n",
       "    .dataframe tbody tr th:only-of-type {\n",
       "        vertical-align: middle;\n",
       "    }\n",
       "\n",
       "    .dataframe tbody tr th {\n",
       "        vertical-align: top;\n",
       "    }\n",
       "\n",
       "    .dataframe thead th {\n",
       "        text-align: right;\n",
       "    }\n",
       "</style>\n",
       "<table border=\"1\" class=\"dataframe\">\n",
       "  <thead>\n",
       "    <tr style=\"text-align: right;\">\n",
       "      <th></th>\n",
       "      <th>年月日</th>\n",
       "      <th>開始時間</th>\n",
       "      <th>終了時間</th>\n",
       "      <th>店舗名</th>\n",
       "      <th>台番号</th>\n",
       "      <th>機種名</th>\n",
       "      <th>開始G数</th>\n",
       "      <th>当選G数</th>\n",
       "      <th>ヤメG数</th>\n",
       "      <th>投資金額</th>\n",
       "      <th>投資メダル枚数</th>\n",
       "      <th>回収金額</th>\n",
       "      <th>回収メダル枚数</th>\n",
       "      <th>期待値</th>\n",
       "      <th>収支金額</th>\n",
       "      <th>収支メダル枚数</th>\n",
       "      <th>備考</th>\n",
       "    </tr>\n",
       "  </thead>\n",
       "  <tbody>\n",
       "    <tr>\n",
       "      <th>13</th>\n",
       "      <td>2022-12-13</td>\n",
       "      <td>19:48:05</td>\n",
       "      <td>20:46:37</td>\n",
       "      <td>ダイナム小郡店</td>\n",
       "      <td>361</td>\n",
       "      <td>パチスロ戦姫絶唱シンフォギア 勇気の歌</td>\n",
       "      <td>208</td>\n",
       "      <td>621</td>\n",
       "      <td>0</td>\n",
       "      <td>13120</td>\n",
       "      <td>644</td>\n",
       "      <td>8226</td>\n",
       "      <td>436</td>\n",
       "      <td>500</td>\n",
       "      <td>-4894</td>\n",
       "      <td>208</td>\n",
       "      <td></td>\n",
       "    </tr>\n",
       "    <tr>\n",
       "      <th>14</th>\n",
       "      <td>2022-12-14</td>\n",
       "      <td>17:58:39</td>\n",
       "      <td>18:12:53</td>\n",
       "      <td>ダイナム宇部港町店</td>\n",
       "      <td>164</td>\n",
       "      <td>Sスーパー海物語 IN JAPAN祭</td>\n",
       "      <td>257</td>\n",
       "      <td>239</td>\n",
       "      <td>0</td>\n",
       "      <td>1000</td>\n",
       "      <td>100</td>\n",
       "      <td>960</td>\n",
       "      <td>96</td>\n",
       "      <td>900</td>\n",
       "      <td>-40</td>\n",
       "      <td>-4</td>\n",
       "      <td></td>\n",
       "    </tr>\n",
       "    <tr>\n",
       "      <th>15</th>\n",
       "      <td>2022-12-14</td>\n",
       "      <td>19:19:59</td>\n",
       "      <td>19:57:00</td>\n",
       "      <td>メガガイア小郡店</td>\n",
       "      <td>1128</td>\n",
       "      <td>パチスロ戦姫絶唱シンフォギア 勇気の歌</td>\n",
       "      <td>294</td>\n",
       "      <td>337</td>\n",
       "      <td>0</td>\n",
       "      <td>1000</td>\n",
       "      <td>160</td>\n",
       "      <td>3250</td>\n",
       "      <td>650</td>\n",
       "      <td>400</td>\n",
       "      <td>2250</td>\n",
       "      <td>490</td>\n",
       "      <td></td>\n",
       "    </tr>\n",
       "    <tr>\n",
       "      <th>16</th>\n",
       "      <td>2022-12-14</td>\n",
       "      <td>20:00:27</td>\n",
       "      <td>20:27:23</td>\n",
       "      <td>メガガイア小郡店</td>\n",
       "      <td>1610</td>\n",
       "      <td>沖ドキ!DUO</td>\n",
       "      <td>427</td>\n",
       "      <td>623</td>\n",
       "      <td>0</td>\n",
       "      <td>7360</td>\n",
       "      <td>368</td>\n",
       "      <td>4307.692308</td>\n",
       "      <td>224</td>\n",
       "      <td>100</td>\n",
       "      <td>-3053</td>\n",
       "      <td>-144</td>\n",
       "      <td>0スルー、1スルー狙い</td>\n",
       "    </tr>\n",
       "    <tr>\n",
       "      <th>17</th>\n",
       "      <td>2022-12-14</td>\n",
       "      <td>20:31:20</td>\n",
       "      <td>22:02:00</td>\n",
       "      <td>メガガイア小郡店</td>\n",
       "      <td>1610</td>\n",
       "      <td>沖ドキ!DUO</td>\n",
       "      <td>0</td>\n",
       "      <td>67</td>\n",
       "      <td>0</td>\n",
       "      <td>2038</td>\n",
       "      <td>102</td>\n",
       "      <td>46980</td>\n",
       "      <td>2443</td>\n",
       "      <td>1000</td>\n",
       "      <td>44942</td>\n",
       "      <td>2341</td>\n",
       "      <td>B以上確定示唆あり</td>\n",
       "    </tr>\n",
       "  </tbody>\n",
       "</table>\n",
       "</div>"
      ],
      "text/plain": [
       "           年月日      開始時間      終了時間        店舗名   台番号                  機種名 開始G数  \\\n",
       "13  2022-12-13  19:48:05  20:46:37    ダイナム小郡店   361  パチスロ戦姫絶唱シンフォギア 勇気の歌  208   \n",
       "14  2022-12-14  17:58:39  18:12:53  ダイナム宇部港町店   164   Sスーパー海物語 IN JAPAN祭  257   \n",
       "15  2022-12-14  19:19:59  19:57:00   メガガイア小郡店  1128  パチスロ戦姫絶唱シンフォギア 勇気の歌  294   \n",
       "16  2022-12-14  20:00:27  20:27:23   メガガイア小郡店  1610              沖ドキ!DUO  427   \n",
       "17  2022-12-14  20:31:20  22:02:00   メガガイア小郡店  1610              沖ドキ!DUO    0   \n",
       "\n",
       "   当選G数 ヤメG数   投資金額 投資メダル枚数         回収金額 回収メダル枚数   期待値   収支金額 収支メダル枚数  \\\n",
       "13  621    0  13120     644         8226     436   500  -4894     208   \n",
       "14  239    0   1000     100          960      96   900    -40      -4   \n",
       "15  337    0   1000     160         3250     650   400   2250     490   \n",
       "16  623    0   7360     368  4307.692308     224   100  -3053    -144   \n",
       "17   67    0   2038     102        46980    2443  1000  44942    2341   \n",
       "\n",
       "             備考  \n",
       "13               \n",
       "14               \n",
       "15               \n",
       "16  0スルー、1スルー狙い  \n",
       "17    B以上確定示唆あり  "
      ]
     },
     "execution_count": 2,
     "metadata": {},
     "output_type": "execute_result"
    }
   ],
   "source": [
    "df.tail()"
   ]
  },
  {
   "cell_type": "code",
   "execution_count": 4,
   "metadata": {},
   "outputs": [
    {
     "data": {
      "text/plain": [
       "18"
      ]
     },
     "execution_count": 4,
     "metadata": {},
     "output_type": "execute_result"
    }
   ],
   "source": [
    "len(df.index)"
   ]
  },
  {
   "cell_type": "code",
   "execution_count": 12,
   "metadata": {},
   "outputs": [],
   "source": [
    "df = df.astype({'投資金額': int ,\n",
    "                '回収金額': int ,\n",
    "                '投資メダル枚数': int ,\n",
    "                '期待値': int ,\n",
    "                '回収メダル枚数': int , \n",
    "                '回収金額': float ,\n",
    "                '収支金額': int ,\n",
    "                '収支メダル枚数': int ,\n",
    "                })"
   ]
  },
  {
   "cell_type": "code",
   "execution_count": 13,
   "metadata": {},
   "outputs": [
    {
     "data": {
      "text/plain": [
       "年月日         object\n",
       "開始時間        object\n",
       "終了時間        object\n",
       "店舗名         object\n",
       "台番号         object\n",
       "機種名         object\n",
       "開始G数         int32\n",
       "当選G数        object\n",
       "ヤメG数        object\n",
       "投資金額        object\n",
       "投資メダル枚数     object\n",
       "回収金額       float64\n",
       "回収メダル枚数     object\n",
       "期待値         object\n",
       "収支金額        object\n",
       "収支メダル枚数     object\n",
       "備考          object\n",
       "dtype: object"
      ]
     },
     "execution_count": 13,
     "metadata": {},
     "output_type": "execute_result"
    }
   ],
   "source": [
    "df.dtypes"
   ]
  },
  {
   "cell_type": "code",
   "execution_count": 15,
   "metadata": {},
   "outputs": [
    {
     "data": {
      "text/plain": [
       "Index(['年月日', '開始時間', '終了時間', '店舗名', '台番号', '機種名', '開始G数', '当選G数', 'ヤメG数',\n",
       "       '投資金額', '投資メダル枚数', '回収金額', '回収メダル枚数', '期待値', '収支金額', '収支メダル枚数', '備考'],\n",
       "      dtype='object')"
      ]
     },
     "execution_count": 15,
     "metadata": {},
     "output_type": "execute_result"
    }
   ],
   "source": [
    "df.columns"
   ]
  },
  {
   "cell_type": "code",
   "execution_count": null,
   "metadata": {},
   "outputs": [],
   "source": []
  }
 ],
 "metadata": {
  "kernelspec": {
   "display_name": "Python 3.9.4 64-bit",
   "language": "python",
   "name": "python3"
  },
  "language_info": {
   "codemirror_mode": {
    "name": "ipython",
    "version": 3
   },
   "file_extension": ".py",
   "mimetype": "text/x-python",
   "name": "python",
   "nbconvert_exporter": "python",
   "pygments_lexer": "ipython3",
   "version": "3.9.4"
  },
  "orig_nbformat": 4,
  "vscode": {
   "interpreter": {
    "hash": "bf0c553b6161751b685220bcf1348fbbe7b5c4a42d195c2e7421759f76dba487"
   }
  }
 },
 "nbformat": 4,
 "nbformat_minor": 2
}
