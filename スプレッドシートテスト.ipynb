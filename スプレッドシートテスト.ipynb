{
 "cells": [
  {
   "cell_type": "code",
   "execution_count": 1,
   "metadata": {},
   "outputs": [],
   "source": [
    "import streamlit as st\n",
    "import numpy as np\n",
    "import pandas as pd\n",
    "from PIL import Image\n",
    "import gspread\n",
    "import json\n",
    "import pandas as pd\n",
    "#ServiceAccountCredentials：Googleの各サービスへアクセスできるservice変数を生成します。\n",
    "from oauth2client.service_account import ServiceAccountCredentials\n",
    "\n",
    "#2つのAPIを記述しないとリフレッシュトークンを3600秒毎に発行し続けなければならない\n",
    "scope = ['https://spreadsheets.google.com/feeds','https://www.googleapis.com/auth/drive']\n",
    "json_path = 'kitaichi-fd2dd716665b.json'\n",
    "#認証情報設定\n",
    "#ダウンロードしたjsonファイル名をクレデンシャル変数に設定（秘密鍵、Pythonファイルから読み込みしやすい位置に置く）\n",
    "credentials = ServiceAccountCredentials.from_json_keyfile_name(json_path, scope)\n",
    "#OAuth2の資格情報を使用してGoogle APIにログインします。\n",
    "gc = gspread.authorize(credentials)\n",
    "# １．ファイル名を指定してワークブックを選択\n",
    "workbook = gc.open('収支表')\n",
    "sh_secchi = workbook.worksheet('設置一覧')\n",
    "sh_shop = workbook.worksheet('店一覧')\n",
    "sh_slot_kisyu = workbook.worksheet('スロット機種一覧')\n",
    "df_secchi = pd.DataFrame(sh_secchi.get_all_values()[1:], columns=sh_secchi.get_all_values()[0])\n",
    "df_shop = pd.DataFrame(sh_shop.get_all_values()[1:], columns=sh_shop.get_all_values()[0])\n",
    "df_slot_kisyu = pd.DataFrame(sh_slot_kisyu.get_all_values()[1:], columns=sh_slot_kisyu.get_all_values()[0])"
   ]
  },
  {
   "cell_type": "code",
   "execution_count": 2,
   "metadata": {},
   "outputs": [],
   "source": [
    "sh_kari = workbook.worksheet('シート7')"
   ]
  },
  {
   "cell_type": "code",
   "execution_count": 4,
   "metadata": {},
   "outputs": [],
   "source": [
    "df = pd.DataFrame(sh_kari.get_all_values()[1:], columns=sh_kari.get_all_values()[0])"
   ]
  },
  {
   "cell_type": "code",
   "execution_count": 9,
   "metadata": {},
   "outputs": [
    {
     "data": {
      "text/html": [
       "<div>\n",
       "<style scoped>\n",
       "    .dataframe tbody tr th:only-of-type {\n",
       "        vertical-align: middle;\n",
       "    }\n",
       "\n",
       "    .dataframe tbody tr th {\n",
       "        vertical-align: top;\n",
       "    }\n",
       "\n",
       "    .dataframe thead th {\n",
       "        text-align: right;\n",
       "    }\n",
       "</style>\n",
       "<table border=\"1\" class=\"dataframe\">\n",
       "  <thead>\n",
       "    <tr style=\"text-align: right;\">\n",
       "      <th></th>\n",
       "      <th>機種番号</th>\n",
       "      <th>カテゴリ</th>\n",
       "      <th>項目</th>\n",
       "      <th>内容</th>\n",
       "    </tr>\n",
       "  </thead>\n",
       "  <tbody>\n",
       "    <tr>\n",
       "      <th>0</th>\n",
       "      <td>s_0096</td>\n",
       "      <td>基本情報</td>\n",
       "      <td>機種名</td>\n",
       "      <td>パチスロこの素晴らしい世界に祝福を!</td>\n",
       "    </tr>\n",
       "    <tr>\n",
       "      <th>1</th>\n",
       "      <td>s_0096</td>\n",
       "      <td>基本情報</td>\n",
       "      <td>型名</td>\n",
       "      <td>Ｓこの素晴らしい世界に祝福をＺＲ</td>\n",
       "    </tr>\n",
       "    <tr>\n",
       "      <th>2</th>\n",
       "      <td>s_0096</td>\n",
       "      <td>基本情報</td>\n",
       "      <td>メーカー</td>\n",
       "      <td>サミー</td>\n",
       "    </tr>\n",
       "    <tr>\n",
       "      <th>3</th>\n",
       "      <td>s_0096</td>\n",
       "      <td>基本情報</td>\n",
       "      <td>タイプ</td>\n",
       "      <td>AT</td>\n",
       "    </tr>\n",
       "    <tr>\n",
       "      <th>4</th>\n",
       "      <td>s_0096</td>\n",
       "      <td>基本情報</td>\n",
       "      <td>コイン持ち</td>\n",
       "      <td>36.3</td>\n",
       "    </tr>\n",
       "    <tr>\n",
       "      <th>...</th>\n",
       "      <td>...</td>\n",
       "      <td>...</td>\n",
       "      <td>...</td>\n",
       "      <td>...</td>\n",
       "    </tr>\n",
       "    <tr>\n",
       "      <th>640</th>\n",
       "      <td>s_0096</td>\n",
       "      <td>天井狙い</td>\n",
       "      <td>591</td>\n",
       "      <td>6154</td>\n",
       "    </tr>\n",
       "    <tr>\n",
       "      <th>641</th>\n",
       "      <td>s_0096</td>\n",
       "      <td>天井狙い</td>\n",
       "      <td>592</td>\n",
       "      <td>6181</td>\n",
       "    </tr>\n",
       "    <tr>\n",
       "      <th>642</th>\n",
       "      <td>s_0096</td>\n",
       "      <td>天井狙い</td>\n",
       "      <td>593</td>\n",
       "      <td>6209</td>\n",
       "    </tr>\n",
       "    <tr>\n",
       "      <th>643</th>\n",
       "      <td>s_0096</td>\n",
       "      <td>天井狙い</td>\n",
       "      <td>594</td>\n",
       "      <td>6236</td>\n",
       "    </tr>\n",
       "    <tr>\n",
       "      <th>644</th>\n",
       "      <td>s_0096</td>\n",
       "      <td>天井狙い</td>\n",
       "      <td>595</td>\n",
       "      <td>6264</td>\n",
       "    </tr>\n",
       "  </tbody>\n",
       "</table>\n",
       "<p>645 rows × 4 columns</p>\n",
       "</div>"
      ],
      "text/plain": [
       "       機種番号  カテゴリ     項目                  内容\n",
       "0    s_0096  基本情報    機種名  パチスロこの素晴らしい世界に祝福を!\n",
       "1    s_0096  基本情報     型名    Ｓこの素晴らしい世界に祝福をＺＲ\n",
       "2    s_0096  基本情報   メーカー                 サミー\n",
       "3    s_0096  基本情報    タイプ                  AT\n",
       "4    s_0096  基本情報  コイン持ち                36.3\n",
       "..      ...   ...    ...                 ...\n",
       "640  s_0096  天井狙い    591                6154\n",
       "641  s_0096  天井狙い    592                6181\n",
       "642  s_0096  天井狙い    593                6209\n",
       "643  s_0096  天井狙い    594                6236\n",
       "644  s_0096  天井狙い    595                6264\n",
       "\n",
       "[645 rows x 4 columns]"
      ]
     },
     "execution_count": 9,
     "metadata": {},
     "output_type": "execute_result"
    }
   ],
   "source": [
    "df"
   ]
  },
  {
   "cell_type": "code",
   "execution_count": 8,
   "metadata": {},
   "outputs": [],
   "source": [
    "kisyu_df = df[df['機種番号'] == 's_0096']"
   ]
  },
  {
   "cell_type": "code",
   "execution_count": 10,
   "metadata": {},
   "outputs": [],
   "source": [
    "tenzyo_df = kisyu_df[kisyu_df['カテゴリ'] == '天井狙い']"
   ]
  },
  {
   "cell_type": "code",
   "execution_count": 15,
   "metadata": {},
   "outputs": [
    {
     "data": {
      "text/html": [
       "<div>\n",
       "<style scoped>\n",
       "    .dataframe tbody tr th:only-of-type {\n",
       "        vertical-align: middle;\n",
       "    }\n",
       "\n",
       "    .dataframe tbody tr th {\n",
       "        vertical-align: top;\n",
       "    }\n",
       "\n",
       "    .dataframe thead th {\n",
       "        text-align: right;\n",
       "    }\n",
       "</style>\n",
       "<table border=\"1\" class=\"dataframe\">\n",
       "  <thead>\n",
       "    <tr style=\"text-align: right;\">\n",
       "      <th></th>\n",
       "      <th>機種番号</th>\n",
       "      <th>カテゴリ</th>\n",
       "      <th>項目</th>\n",
       "      <th>内容</th>\n",
       "    </tr>\n",
       "  </thead>\n",
       "  <tbody>\n",
       "    <tr>\n",
       "      <th>49</th>\n",
       "      <td>s_0096</td>\n",
       "      <td>天井狙い</td>\n",
       "      <td>0</td>\n",
       "      <td>-476</td>\n",
       "    </tr>\n",
       "    <tr>\n",
       "      <th>50</th>\n",
       "      <td>s_0096</td>\n",
       "      <td>天井狙い</td>\n",
       "      <td>1</td>\n",
       "      <td>-470</td>\n",
       "    </tr>\n",
       "    <tr>\n",
       "      <th>51</th>\n",
       "      <td>s_0096</td>\n",
       "      <td>天井狙い</td>\n",
       "      <td>2</td>\n",
       "      <td>-465</td>\n",
       "    </tr>\n",
       "    <tr>\n",
       "      <th>52</th>\n",
       "      <td>s_0096</td>\n",
       "      <td>天井狙い</td>\n",
       "      <td>3</td>\n",
       "      <td>-460</td>\n",
       "    </tr>\n",
       "    <tr>\n",
       "      <th>53</th>\n",
       "      <td>s_0096</td>\n",
       "      <td>天井狙い</td>\n",
       "      <td>4</td>\n",
       "      <td>-455</td>\n",
       "    </tr>\n",
       "    <tr>\n",
       "      <th>...</th>\n",
       "      <td>...</td>\n",
       "      <td>...</td>\n",
       "      <td>...</td>\n",
       "      <td>...</td>\n",
       "    </tr>\n",
       "    <tr>\n",
       "      <th>640</th>\n",
       "      <td>s_0096</td>\n",
       "      <td>天井狙い</td>\n",
       "      <td>591</td>\n",
       "      <td>6154</td>\n",
       "    </tr>\n",
       "    <tr>\n",
       "      <th>641</th>\n",
       "      <td>s_0096</td>\n",
       "      <td>天井狙い</td>\n",
       "      <td>592</td>\n",
       "      <td>6181</td>\n",
       "    </tr>\n",
       "    <tr>\n",
       "      <th>642</th>\n",
       "      <td>s_0096</td>\n",
       "      <td>天井狙い</td>\n",
       "      <td>593</td>\n",
       "      <td>6209</td>\n",
       "    </tr>\n",
       "    <tr>\n",
       "      <th>643</th>\n",
       "      <td>s_0096</td>\n",
       "      <td>天井狙い</td>\n",
       "      <td>594</td>\n",
       "      <td>6236</td>\n",
       "    </tr>\n",
       "    <tr>\n",
       "      <th>644</th>\n",
       "      <td>s_0096</td>\n",
       "      <td>天井狙い</td>\n",
       "      <td>595</td>\n",
       "      <td>6264</td>\n",
       "    </tr>\n",
       "  </tbody>\n",
       "</table>\n",
       "<p>596 rows × 4 columns</p>\n",
       "</div>"
      ],
      "text/plain": [
       "       機種番号  カテゴリ   項目    内容\n",
       "49   s_0096  天井狙い    0  -476\n",
       "50   s_0096  天井狙い    1  -470\n",
       "51   s_0096  天井狙い    2  -465\n",
       "52   s_0096  天井狙い    3  -460\n",
       "53   s_0096  天井狙い    4  -455\n",
       "..      ...   ...  ...   ...\n",
       "640  s_0096  天井狙い  591  6154\n",
       "641  s_0096  天井狙い  592  6181\n",
       "642  s_0096  天井狙い  593  6209\n",
       "643  s_0096  天井狙い  594  6236\n",
       "644  s_0096  天井狙い  595  6264\n",
       "\n",
       "[596 rows x 4 columns]"
      ]
     },
     "execution_count": 15,
     "metadata": {},
     "output_type": "execute_result"
    }
   ],
   "source": [
    "tenzyo_df"
   ]
  },
  {
   "cell_type": "code",
   "execution_count": 24,
   "metadata": {},
   "outputs": [
    {
     "data": {
      "text/plain": [
       "'30'"
      ]
     },
     "execution_count": 24,
     "metadata": {},
     "output_type": "execute_result"
    }
   ],
   "source": [
    "list(tenzyo_df['項目'])[30]"
   ]
  },
  {
   "cell_type": "code",
   "execution_count": 25,
   "metadata": {},
   "outputs": [
    {
     "data": {
      "text/plain": [
       "'31'"
      ]
     },
     "execution_count": 25,
     "metadata": {},
     "output_type": "execute_result"
    }
   ],
   "source": [
    "list(tenzyo_df['内容'])[30]"
   ]
  },
  {
   "cell_type": "code",
   "execution_count": 40,
   "metadata": {},
   "outputs": [
    {
     "data": {
      "text/plain": [
       "28.52"
      ]
     },
     "execution_count": 40,
     "metadata": {},
     "output_type": "execute_result"
    }
   ],
   "source": [
    "int(list(tenzyo_df['内容'])[30])*0.92"
   ]
  },
  {
   "cell_type": "code",
   "execution_count": 37,
   "metadata": {},
   "outputs": [
    {
     "data": {
      "text/plain": [
       "21.73913043478261"
      ]
     },
     "execution_count": 37,
     "metadata": {},
     "output_type": "execute_result"
    }
   ],
   "source": [
    "1000/46"
   ]
  },
  {
   "cell_type": "code",
   "execution_count": 38,
   "metadata": {},
   "outputs": [
    {
     "data": {
      "text/plain": [
       "20.0"
      ]
     },
     "execution_count": 38,
     "metadata": {},
     "output_type": "execute_result"
    }
   ],
   "source": [
    "1000/50"
   ]
  },
  {
   "cell_type": "code",
   "execution_count": 39,
   "metadata": {},
   "outputs": [
    {
     "data": {
      "text/plain": [
       "0.9216589861751152"
      ]
     },
     "execution_count": 39,
     "metadata": {},
     "output_type": "execute_result"
    }
   ],
   "source": [
    "20/21.7"
   ]
  },
  {
   "cell_type": "code",
   "execution_count": null,
   "metadata": {},
   "outputs": [],
   "source": []
  }
 ],
 "metadata": {
  "kernelspec": {
   "display_name": "Python 3.9.4 64-bit",
   "language": "python",
   "name": "python3"
  },
  "language_info": {
   "codemirror_mode": {
    "name": "ipython",
    "version": 3
   },
   "file_extension": ".py",
   "mimetype": "text/x-python",
   "name": "python",
   "nbconvert_exporter": "python",
   "pygments_lexer": "ipython3",
   "version": "3.9.4"
  },
  "orig_nbformat": 4,
  "vscode": {
   "interpreter": {
    "hash": "bf0c553b6161751b685220bcf1348fbbe7b5c4a42d195c2e7421759f76dba487"
   }
  }
 },
 "nbformat": 4,
 "nbformat_minor": 2
}
