{
 "cells": [
  {
   "cell_type": "code",
   "execution_count": 137,
   "metadata": {},
   "outputs": [],
   "source": [
    "import gspread\n",
    "import json\n",
    "import pandas as pd\n",
    "#ServiceAccountCredentials：Googleの各サービスへアクセスできるservice変数を生成します。\n",
    "from oauth2client.service_account import ServiceAccountCredentials\n",
    "from gspread_dataframe import get_as_dataframe, set_with_dataframe"
   ]
  },
  {
   "cell_type": "code",
   "execution_count": 138,
   "metadata": {},
   "outputs": [],
   "source": [
    "#2つのAPIを記述しないとリフレッシュトークンを3600秒毎に発行し続けなければならない\n",
    "scope = ['https://spreadsheets.google.com/feeds','https://www.googleapis.com/auth/drive']\n"
   ]
  },
  {
   "cell_type": "code",
   "execution_count": 139,
   "metadata": {},
   "outputs": [],
   "source": [
    "json_path = 'E://Patinko//App//kitaichi-fd2dd716665b.json'\n",
    "#認証情報設定\n",
    "#ダウンロードしたjsonファイル名をクレデンシャル変数に設定（秘密鍵、Pythonファイルから読み込みしやすい位置に置く）\n",
    "credentials = ServiceAccountCredentials.from_json_keyfile_name(json_path, scope)"
   ]
  },
  {
   "cell_type": "code",
   "execution_count": 140,
   "metadata": {},
   "outputs": [],
   "source": [
    "#OAuth2の資格情報を使用してGoogle APIにログインします。\n",
    "gc = gspread.authorize(credentials)"
   ]
  },
  {
   "cell_type": "code",
   "execution_count": 141,
   "metadata": {},
   "outputs": [],
   "source": [
    "# １．ファイル名を指定してワークブックを選択\n",
    "workbook = gc.open('収支表')"
   ]
  },
  {
   "cell_type": "code",
   "execution_count": 142,
   "metadata": {},
   "outputs": [],
   "source": [
    "# ２．スプレッドシートキーを指定してワークブックを選択（おすすめ）\n",
    "workbook = gc.open_by_key('1PcydmTfX1EY1g7LtWMwU8_XAPoDoAhfdwRr2JdzRV5M')"
   ]
  },
  {
   "cell_type": "code",
   "execution_count": 143,
   "metadata": {},
   "outputs": [
    {
     "data": {
      "text/plain": [
       "'収支表'"
      ]
     },
     "execution_count": 143,
     "metadata": {},
     "output_type": "execute_result"
    }
   ],
   "source": [
    "# パラメータ\n",
    "workbook.title\t#スプレッドシートのタイトルを取得する\n"
   ]
  },
  {
   "cell_type": "code",
   "execution_count": 144,
   "metadata": {},
   "outputs": [
    {
     "data": {
      "text/plain": [
       "'1PcydmTfX1EY1g7LtWMwU8_XAPoDoAhfdwRr2JdzRV5M'"
      ]
     },
     "execution_count": 144,
     "metadata": {},
     "output_type": "execute_result"
    }
   ],
   "source": [
    "workbook.id\t\t#スプレッドシートキーを取得する"
   ]
  },
  {
   "cell_type": "code",
   "execution_count": 155,
   "metadata": {},
   "outputs": [],
   "source": [
    "worksheet = workbook.worksheet('機種_1')"
   ]
  },
  {
   "cell_type": "code",
   "execution_count": 156,
   "metadata": {},
   "outputs": [
    {
     "data": {
      "text/plain": [
       "[['開始', '期待値'],\n",
       " ['0G', '-476円'],\n",
       " ['5G', '-450円'],\n",
       " ['10G', '-368円'],\n",
       " ['15G', '-270円'],\n",
       " ['20G', '-163円'],\n",
       " ['25G', '-64円'],\n",
       " ['30G', '31円'],\n",
       " ['35G', '126円'],\n",
       " ['40G', '219円'],\n",
       " ['45G', '312円'],\n",
       " ['50G', '394円'],\n",
       " ['55G', '482円'],\n",
       " ['60G', '567円'],\n",
       " ['65G', '660円'],\n",
       " ['70G', '741円'],\n",
       " ['75G', '818円'],\n",
       " ['80G', '888円'],\n",
       " ['85G', '970円'],\n",
       " ['90G', '1048円'],\n",
       " ['95G', '1111円'],\n",
       " ['100G', '1176円'],\n",
       " ['105G', '1238円'],\n",
       " ['110G', '1297円'],\n",
       " ['115G', '1348円'],\n",
       " ['120G', '1367円'],\n",
       " ['125G', '1389円'],\n",
       " ['130G', '1352円'],\n",
       " ['135G', '1282円'],\n",
       " ['140G', '1209円'],\n",
       " ['145G', '1109円'],\n",
       " ['150G', '996円'],\n",
       " ['155G', '856円'],\n",
       " ['160G', '722円'],\n",
       " ['165G', '599円'],\n",
       " ['170G', '439円'],\n",
       " ['175G', '295円'],\n",
       " ['180G', '171円'],\n",
       " ['185G', '60円'],\n",
       " ['190G', '-72円'],\n",
       " ['195G', '-155円'],\n",
       " ['200G', '-206円'],\n",
       " ['205G', '-254円'],\n",
       " ['210G', '-308円'],\n",
       " ['215G', '-370円'],\n",
       " ['220G', '-400円'],\n",
       " ['225G', '-432円'],\n",
       " ['230G', '-426円'],\n",
       " ['235G', '-444円'],\n",
       " ['240G', '-428円'],\n",
       " ['245G', '-414円'],\n",
       " ['250G', '-382円'],\n",
       " ['255G', '-353円'],\n",
       " ['260G', '-323円'],\n",
       " ['265G', '-285円'],\n",
       " ['270G', '-240円'],\n",
       " ['275G', '-197円'],\n",
       " ['280G', '-159円'],\n",
       " ['285G', '-111円'],\n",
       " ['290G', '-63円'],\n",
       " ['295G', '-15円'],\n",
       " ['300G', '43円'],\n",
       " ['305G', '113円'],\n",
       " ['310G', '157円'],\n",
       " ['315G', '202円'],\n",
       " ['320G', '264円'],\n",
       " ['325G', '331円'],\n",
       " ['330G', '388円'],\n",
       " ['335G', '455円'],\n",
       " ['340G', '527円'],\n",
       " ['345G', '596円'],\n",
       " ['350G', '658円'],\n",
       " ['355G', '746円'],\n",
       " ['360G', '815円'],\n",
       " ['365G', '895円'],\n",
       " ['370G', '967円'],\n",
       " ['375G', '1055円'],\n",
       " ['380G', '1130円'],\n",
       " ['385G', '1217円'],\n",
       " ['390G', '1289円'],\n",
       " ['395G', '1381円'],\n",
       " ['400G', '1456円'],\n",
       " ['405G', '1550円'],\n",
       " ['410G', '1631円'],\n",
       " ['415G', '1733円'],\n",
       " ['420G', '1829円'],\n",
       " ['425G', '1941円'],\n",
       " ['430G', '2034円'],\n",
       " ['435G', '2128円'],\n",
       " ['440G', '2226円'],\n",
       " ['445G', '2329円'],\n",
       " ['450G', '2442円'],\n",
       " ['455G', '2554円'],\n",
       " ['460G', '2655円'],\n",
       " ['465G', '2762円'],\n",
       " ['470G', '2880円'],\n",
       " ['475G', '2994円'],\n",
       " ['480G', '3119円'],\n",
       " ['485G', '3254円'],\n",
       " ['490G', '3359円'],\n",
       " ['495G', '3490円'],\n",
       " ['500G', '3625円'],\n",
       " ['505G', '3765円'],\n",
       " ['510G', '3899円'],\n",
       " ['515G', '4002円'],\n",
       " ['520G', '4142円'],\n",
       " ['525G', '4279円'],\n",
       " ['530G', '4388円'],\n",
       " ['535G', '4509円'],\n",
       " ['540G', '4659円'],\n",
       " ['545G', '4807円'],\n",
       " ['550G', '4974円'],\n",
       " ['555G', '5126円'],\n",
       " ['560G', '5288円'],\n",
       " ['565G', '5438円'],\n",
       " ['570G', '5576円'],\n",
       " ['575G', '5714円'],\n",
       " ['580G', '5851円'],\n",
       " ['585G', '5989円'],\n",
       " ['590G', '6127円'],\n",
       " ['595G', '6264円']]"
      ]
     },
     "execution_count": 156,
     "metadata": {},
     "output_type": "execute_result"
    }
   ],
   "source": [
    "worksheet.get_all_values()"
   ]
  },
  {
   "cell_type": "code",
   "execution_count": 147,
   "metadata": {},
   "outputs": [],
   "source": [
    "values = worksheet.get_all_values()[1:]           "
   ]
  },
  {
   "cell_type": "code",
   "execution_count": 159,
   "metadata": {},
   "outputs": [],
   "source": [
    "df = pd.DataFrame(range(596),columns=['開始']).set_index('開始')"
   ]
  },
  {
   "cell_type": "code",
   "execution_count": 152,
   "metadata": {},
   "outputs": [],
   "source": [
    "df = pd.DataFrame(worksheet.get_all_values()[1:], columns=worksheet.get_all_values()[0]).set_index('開始')"
   ]
  },
  {
   "cell_type": "code",
   "execution_count": 157,
   "metadata": {},
   "outputs": [],
   "source": [
    "values = worksheet.get_all_values()[1:]\n",
    "int_values = []\n",
    "for x in values:\n",
    "    if not x[1] == '':\n",
    "        value = [int(x[0].replace('G','')),int(x[1].replace(',','').replace('円',''))]\n",
    "        int_values.append(value) "
   ]
  },
  {
   "cell_type": "code",
   "execution_count": 158,
   "metadata": {},
   "outputs": [],
   "source": [
    "df2 = pd.DataFrame(int_values, columns=worksheet.get_all_values()[0]).set_index('開始')"
   ]
  },
  {
   "cell_type": "code",
   "execution_count": 153,
   "metadata": {},
   "outputs": [
    {
     "data": {
      "text/html": [
       "<div>\n",
       "<style scoped>\n",
       "    .dataframe tbody tr th:only-of-type {\n",
       "        vertical-align: middle;\n",
       "    }\n",
       "\n",
       "    .dataframe tbody tr th {\n",
       "        vertical-align: top;\n",
       "    }\n",
       "\n",
       "    .dataframe thead th {\n",
       "        text-align: right;\n",
       "    }\n",
       "</style>\n",
       "<table border=\"1\" class=\"dataframe\">\n",
       "  <thead>\n",
       "    <tr style=\"text-align: right;\">\n",
       "      <th></th>\n",
       "      <th>期待値</th>\n",
       "    </tr>\n",
       "    <tr>\n",
       "      <th>開始</th>\n",
       "      <th></th>\n",
       "    </tr>\n",
       "  </thead>\n",
       "  <tbody>\n",
       "    <tr>\n",
       "      <th>0</th>\n",
       "      <td>-476</td>\n",
       "    </tr>\n",
       "    <tr>\n",
       "      <th>1</th>\n",
       "      <td></td>\n",
       "    </tr>\n",
       "    <tr>\n",
       "      <th>2</th>\n",
       "      <td></td>\n",
       "    </tr>\n",
       "    <tr>\n",
       "      <th>3</th>\n",
       "      <td></td>\n",
       "    </tr>\n",
       "    <tr>\n",
       "      <th>4</th>\n",
       "      <td></td>\n",
       "    </tr>\n",
       "    <tr>\n",
       "      <th>...</th>\n",
       "      <td>...</td>\n",
       "    </tr>\n",
       "    <tr>\n",
       "      <th>591</th>\n",
       "      <td></td>\n",
       "    </tr>\n",
       "    <tr>\n",
       "      <th>592</th>\n",
       "      <td></td>\n",
       "    </tr>\n",
       "    <tr>\n",
       "      <th>593</th>\n",
       "      <td></td>\n",
       "    </tr>\n",
       "    <tr>\n",
       "      <th>594</th>\n",
       "      <td></td>\n",
       "    </tr>\n",
       "    <tr>\n",
       "      <th>595</th>\n",
       "      <td>6264</td>\n",
       "    </tr>\n",
       "  </tbody>\n",
       "</table>\n",
       "<p>596 rows × 1 columns</p>\n",
       "</div>"
      ],
      "text/plain": [
       "      期待値\n",
       "開始       \n",
       "0    -476\n",
       "1        \n",
       "2        \n",
       "3        \n",
       "4        \n",
       "..    ...\n",
       "591      \n",
       "592      \n",
       "593      \n",
       "594      \n",
       "595  6264\n",
       "\n",
       "[596 rows x 1 columns]"
      ]
     },
     "execution_count": 153,
     "metadata": {},
     "output_type": "execute_result"
    }
   ],
   "source": [
    "df"
   ]
  },
  {
   "cell_type": "code",
   "execution_count": 160,
   "metadata": {},
   "outputs": [],
   "source": [
    "per_df = df.join(df2,how='outer')"
   ]
  },
  {
   "cell_type": "code",
   "execution_count": 164,
   "metadata": {},
   "outputs": [],
   "source": [
    "per_df = per_df.interpolate()"
   ]
  },
  {
   "cell_type": "code",
   "execution_count": 172,
   "metadata": {},
   "outputs": [],
   "source": [
    "set_with_dataframe(worksheet, per_df.reset_index())"
   ]
  },
  {
   "cell_type": "code",
   "execution_count": 76,
   "metadata": {},
   "outputs": [],
   "source": [
    "x=[]\n",
    "all = worksheet.get_all_values()[1:]\n",
    "for f in all:\n",
    "    y=[]\n",
    "    for k in f:\n",
    "        y.append(int(k.replace(',','')))\n",
    "    x.append(y)"
   ]
  },
  {
   "cell_type": "code",
   "execution_count": 70,
   "metadata": {},
   "outputs": [
    {
     "data": {
      "text/plain": [
       "['開始', '期待値']"
      ]
     },
     "execution_count": 70,
     "metadata": {},
     "output_type": "execute_result"
    }
   ],
   "source": [
    "worksheet.get_all_values()[0]"
   ]
  },
  {
   "cell_type": "code",
   "execution_count": 77,
   "metadata": {},
   "outputs": [
    {
     "data": {
      "text/plain": [
       "[[0, -476],\n",
       " [5, -450],\n",
       " [10, -368],\n",
       " [15, -270],\n",
       " [20, -163],\n",
       " [25, -64],\n",
       " [30, 31],\n",
       " [35, 126],\n",
       " [40, 219],\n",
       " [45, 312],\n",
       " [50, 394],\n",
       " [55, 482],\n",
       " [60, 567],\n",
       " [65, 660],\n",
       " [70, 741],\n",
       " [75, 818],\n",
       " [80, 888],\n",
       " [85, 970],\n",
       " [90, 1048],\n",
       " [95, 1111],\n",
       " [100, 1176],\n",
       " [105, 1238],\n",
       " [110, 1297],\n",
       " [115, 1348],\n",
       " [120, 1367],\n",
       " [125, 1389],\n",
       " [130, 1352],\n",
       " [135, 1282],\n",
       " [140, 1209],\n",
       " [145, 1109],\n",
       " [150, 996],\n",
       " [155, 856],\n",
       " [160, 722],\n",
       " [165, 599],\n",
       " [170, 439],\n",
       " [175, 295],\n",
       " [180, 171],\n",
       " [185, 60],\n",
       " [190, -72],\n",
       " [195, -155],\n",
       " [200, -206],\n",
       " [205, -254],\n",
       " [210, -308],\n",
       " [215, -370],\n",
       " [220, -400],\n",
       " [225, -432],\n",
       " [230, -426],\n",
       " [235, -444],\n",
       " [240, -428],\n",
       " [245, -414],\n",
       " [250, -382],\n",
       " [255, -353],\n",
       " [260, -323],\n",
       " [265, -285],\n",
       " [270, -240],\n",
       " [275, -197],\n",
       " [280, -159],\n",
       " [285, -111],\n",
       " [290, -63],\n",
       " [295, -15],\n",
       " [300, 43],\n",
       " [305, 113],\n",
       " [310, 157],\n",
       " [315, 202],\n",
       " [320, 264],\n",
       " [325, 331],\n",
       " [330, 388],\n",
       " [335, 455],\n",
       " [340, 527],\n",
       " [345, 596],\n",
       " [350, 658],\n",
       " [355, 746],\n",
       " [360, 815],\n",
       " [365, 895],\n",
       " [370, 967],\n",
       " [375, 1055],\n",
       " [380, 1130],\n",
       " [385, 1217],\n",
       " [390, 1289],\n",
       " [395, 1381],\n",
       " [400, 1456],\n",
       " [405, 1550],\n",
       " [410, 1631],\n",
       " [415, 1733],\n",
       " [420, 1829],\n",
       " [425, 1941],\n",
       " [430, 2034],\n",
       " [435, 2128],\n",
       " [440, 2226],\n",
       " [445, 2329],\n",
       " [450, 2442],\n",
       " [455, 2554],\n",
       " [460, 2655],\n",
       " [465, 2762],\n",
       " [470, 2880],\n",
       " [475, 2994],\n",
       " [480, 3119],\n",
       " [485, 3254],\n",
       " [490, 3359],\n",
       " [495, 3490],\n",
       " [500, 3625],\n",
       " [505, 3765],\n",
       " [510, 3899],\n",
       " [515, 4002],\n",
       " [520, 4142],\n",
       " [525, 4279],\n",
       " [530, 4388],\n",
       " [535, 4509],\n",
       " [540, 4659],\n",
       " [545, 4807],\n",
       " [550, 4974],\n",
       " [555, 5126],\n",
       " [560, 5288],\n",
       " [565, 5438],\n",
       " [570, 5576],\n",
       " [575, 5714],\n",
       " [580, 5851],\n",
       " [585, 5989],\n",
       " [590, 6127],\n",
       " [595, 6264]]"
      ]
     },
     "execution_count": 77,
     "metadata": {},
     "output_type": "execute_result"
    }
   ],
   "source": [
    "x"
   ]
  },
  {
   "cell_type": "code",
   "execution_count": 37,
   "metadata": {},
   "outputs": [],
   "source": [
    "from gspread_dataframe import set_with_dataframe"
   ]
  },
  {
   "cell_type": "code",
   "execution_count": 38,
   "metadata": {},
   "outputs": [
    {
     "data": {
      "text/plain": [
       "<Worksheet '会社別売上' id:1033108726>"
      ]
     },
     "execution_count": 38,
     "metadata": {},
     "output_type": "execute_result"
    }
   ],
   "source": [
    "workbook.add_worksheet(title='会社別売上', rows=50, cols=10)"
   ]
  },
  {
   "cell_type": "code",
   "execution_count": 64,
   "metadata": {},
   "outputs": [],
   "source": [
    "df2 = pd.DataFrame(list(range(0,599)),columns=['開始']).set_index('開始')"
   ]
  },
  {
   "cell_type": "code",
   "execution_count": 66,
   "metadata": {},
   "outputs": [
    {
     "data": {
      "text/html": [
       "<div>\n",
       "<style scoped>\n",
       "    .dataframe tbody tr th:only-of-type {\n",
       "        vertical-align: middle;\n",
       "    }\n",
       "\n",
       "    .dataframe tbody tr th {\n",
       "        vertical-align: top;\n",
       "    }\n",
       "\n",
       "    .dataframe thead th {\n",
       "        text-align: right;\n",
       "    }\n",
       "</style>\n",
       "<table border=\"1\" class=\"dataframe\">\n",
       "  <thead>\n",
       "    <tr style=\"text-align: right;\">\n",
       "      <th></th>\n",
       "      <th>期待値</th>\n",
       "    </tr>\n",
       "    <tr>\n",
       "      <th>開始</th>\n",
       "      <th></th>\n",
       "    </tr>\n",
       "  </thead>\n",
       "  <tbody>\n",
       "    <tr>\n",
       "      <th>0</th>\n",
       "      <td>-476</td>\n",
       "    </tr>\n",
       "    <tr>\n",
       "      <th>5</th>\n",
       "      <td>-450</td>\n",
       "    </tr>\n",
       "    <tr>\n",
       "      <th>10</th>\n",
       "      <td>-368</td>\n",
       "    </tr>\n",
       "    <tr>\n",
       "      <th>15</th>\n",
       "      <td>-270</td>\n",
       "    </tr>\n",
       "    <tr>\n",
       "      <th>20</th>\n",
       "      <td>-163</td>\n",
       "    </tr>\n",
       "    <tr>\n",
       "      <th>...</th>\n",
       "      <td>...</td>\n",
       "    </tr>\n",
       "    <tr>\n",
       "      <th>594</th>\n",
       "      <td>NaN</td>\n",
       "    </tr>\n",
       "    <tr>\n",
       "      <th>595</th>\n",
       "      <td>NaN</td>\n",
       "    </tr>\n",
       "    <tr>\n",
       "      <th>596</th>\n",
       "      <td>NaN</td>\n",
       "    </tr>\n",
       "    <tr>\n",
       "      <th>597</th>\n",
       "      <td>NaN</td>\n",
       "    </tr>\n",
       "    <tr>\n",
       "      <th>598</th>\n",
       "      <td>NaN</td>\n",
       "    </tr>\n",
       "  </tbody>\n",
       "</table>\n",
       "<p>719 rows × 1 columns</p>\n",
       "</div>"
      ],
      "text/plain": [
       "      期待値\n",
       "開始       \n",
       "0    -476\n",
       "5    -450\n",
       "10   -368\n",
       "15   -270\n",
       "20   -163\n",
       "..    ...\n",
       "594   NaN\n",
       "595   NaN\n",
       "596   NaN\n",
       "597   NaN\n",
       "598   NaN\n",
       "\n",
       "[719 rows x 1 columns]"
      ]
     },
     "execution_count": 66,
     "metadata": {},
     "output_type": "execute_result"
    }
   ],
   "source": [
    "df.append(df2)"
   ]
  },
  {
   "cell_type": "code",
   "execution_count": 79,
   "metadata": {},
   "outputs": [
    {
     "data": {
      "text/html": [
       "<div>\n",
       "<style scoped>\n",
       "    .dataframe tbody tr th:only-of-type {\n",
       "        vertical-align: middle;\n",
       "    }\n",
       "\n",
       "    .dataframe tbody tr th {\n",
       "        vertical-align: top;\n",
       "    }\n",
       "\n",
       "    .dataframe thead th {\n",
       "        text-align: right;\n",
       "    }\n",
       "</style>\n",
       "<table border=\"1\" class=\"dataframe\">\n",
       "  <thead>\n",
       "    <tr style=\"text-align: right;\">\n",
       "      <th></th>\n",
       "      <th>開始</th>\n",
       "      <th>期待値</th>\n",
       "    </tr>\n",
       "  </thead>\n",
       "  <tbody>\n",
       "    <tr>\n",
       "      <th>0</th>\n",
       "      <td>0</td>\n",
       "      <td>-476</td>\n",
       "    </tr>\n",
       "    <tr>\n",
       "      <th>1</th>\n",
       "      <td>5</td>\n",
       "      <td>-450</td>\n",
       "    </tr>\n",
       "    <tr>\n",
       "      <th>2</th>\n",
       "      <td>10</td>\n",
       "      <td>-368</td>\n",
       "    </tr>\n",
       "    <tr>\n",
       "      <th>3</th>\n",
       "      <td>15</td>\n",
       "      <td>-270</td>\n",
       "    </tr>\n",
       "    <tr>\n",
       "      <th>4</th>\n",
       "      <td>20</td>\n",
       "      <td>-163</td>\n",
       "    </tr>\n",
       "    <tr>\n",
       "      <th>...</th>\n",
       "      <td>...</td>\n",
       "      <td>...</td>\n",
       "    </tr>\n",
       "    <tr>\n",
       "      <th>115</th>\n",
       "      <td>575</td>\n",
       "      <td>5714</td>\n",
       "    </tr>\n",
       "    <tr>\n",
       "      <th>116</th>\n",
       "      <td>580</td>\n",
       "      <td>5851</td>\n",
       "    </tr>\n",
       "    <tr>\n",
       "      <th>117</th>\n",
       "      <td>585</td>\n",
       "      <td>5989</td>\n",
       "    </tr>\n",
       "    <tr>\n",
       "      <th>118</th>\n",
       "      <td>590</td>\n",
       "      <td>6127</td>\n",
       "    </tr>\n",
       "    <tr>\n",
       "      <th>119</th>\n",
       "      <td>595</td>\n",
       "      <td>6264</td>\n",
       "    </tr>\n",
       "  </tbody>\n",
       "</table>\n",
       "<p>120 rows × 2 columns</p>\n",
       "</div>"
      ],
      "text/plain": [
       "      開始   期待値\n",
       "0      0  -476\n",
       "1      5  -450\n",
       "2     10  -368\n",
       "3     15  -270\n",
       "4     20  -163\n",
       "..   ...   ...\n",
       "115  575  5714\n",
       "116  580  5851\n",
       "117  585  5989\n",
       "118  590  6127\n",
       "119  595  6264\n",
       "\n",
       "[120 rows x 2 columns]"
      ]
     },
     "execution_count": 79,
     "metadata": {},
     "output_type": "execute_result"
    }
   ],
   "source": [
    "pd.DataFrame(x,columns=worksheet.get_all_values()[0])"
   ]
  },
  {
   "cell_type": "code",
   "execution_count": 168,
   "metadata": {},
   "outputs": [],
   "source": [
    "xs=[]\n",
    "for x in list(per_df['期待値']):\n",
    "    xs.append(int(x))"
   ]
  },
  {
   "cell_type": "code",
   "execution_count": 170,
   "metadata": {},
   "outputs": [],
   "source": [
    "per_df['期待値']=xs"
   ]
  },
  {
   "cell_type": "code",
   "execution_count": 171,
   "metadata": {},
   "outputs": [
    {
     "data": {
      "text/html": [
       "<div>\n",
       "<style scoped>\n",
       "    .dataframe tbody tr th:only-of-type {\n",
       "        vertical-align: middle;\n",
       "    }\n",
       "\n",
       "    .dataframe tbody tr th {\n",
       "        vertical-align: top;\n",
       "    }\n",
       "\n",
       "    .dataframe thead th {\n",
       "        text-align: right;\n",
       "    }\n",
       "</style>\n",
       "<table border=\"1\" class=\"dataframe\">\n",
       "  <thead>\n",
       "    <tr style=\"text-align: right;\">\n",
       "      <th></th>\n",
       "      <th>期待値</th>\n",
       "    </tr>\n",
       "    <tr>\n",
       "      <th>開始</th>\n",
       "      <th></th>\n",
       "    </tr>\n",
       "  </thead>\n",
       "  <tbody>\n",
       "    <tr>\n",
       "      <th>0</th>\n",
       "      <td>-476</td>\n",
       "    </tr>\n",
       "    <tr>\n",
       "      <th>1</th>\n",
       "      <td>-470</td>\n",
       "    </tr>\n",
       "    <tr>\n",
       "      <th>2</th>\n",
       "      <td>-465</td>\n",
       "    </tr>\n",
       "    <tr>\n",
       "      <th>3</th>\n",
       "      <td>-460</td>\n",
       "    </tr>\n",
       "    <tr>\n",
       "      <th>4</th>\n",
       "      <td>-455</td>\n",
       "    </tr>\n",
       "    <tr>\n",
       "      <th>...</th>\n",
       "      <td>...</td>\n",
       "    </tr>\n",
       "    <tr>\n",
       "      <th>591</th>\n",
       "      <td>6154</td>\n",
       "    </tr>\n",
       "    <tr>\n",
       "      <th>592</th>\n",
       "      <td>6181</td>\n",
       "    </tr>\n",
       "    <tr>\n",
       "      <th>593</th>\n",
       "      <td>6209</td>\n",
       "    </tr>\n",
       "    <tr>\n",
       "      <th>594</th>\n",
       "      <td>6236</td>\n",
       "    </tr>\n",
       "    <tr>\n",
       "      <th>595</th>\n",
       "      <td>6264</td>\n",
       "    </tr>\n",
       "  </tbody>\n",
       "</table>\n",
       "<p>596 rows × 1 columns</p>\n",
       "</div>"
      ],
      "text/plain": [
       "      期待値\n",
       "開始       \n",
       "0    -476\n",
       "1    -470\n",
       "2    -465\n",
       "3    -460\n",
       "4    -455\n",
       "..    ...\n",
       "591  6154\n",
       "592  6181\n",
       "593  6209\n",
       "594  6236\n",
       "595  6264\n",
       "\n",
       "[596 rows x 1 columns]"
      ]
     },
     "execution_count": 171,
     "metadata": {},
     "output_type": "execute_result"
    }
   ],
   "source": [
    "per_df"
   ]
  },
  {
   "cell_type": "code",
   "execution_count": 178,
   "metadata": {},
   "outputs": [
    {
     "name": "stdout",
     "output_type": "stream",
     "text": [
      "151\n"
     ]
    }
   ],
   "source": [
    "number = 151\n",
    "for i in range(len(list(per_df.index))):\n",
    "    if list(per_df.index)[i] == number:\n",
    "        print(i)"
   ]
  },
  {
   "cell_type": "code",
   "execution_count": 183,
   "metadata": {},
   "outputs": [
    {
     "data": {
      "text/plain": [
       "968"
      ]
     },
     "execution_count": 183,
     "metadata": {},
     "output_type": "execute_result"
    }
   ],
   "source": [
    "per_df.iloc[151,0]"
   ]
  },
  {
   "cell_type": "code",
   "execution_count": null,
   "metadata": {},
   "outputs": [],
   "source": []
  }
 ],
 "metadata": {
  "kernelspec": {
   "display_name": "Python 3.9.4 64-bit",
   "language": "python",
   "name": "python3"
  },
  "language_info": {
   "codemirror_mode": {
    "name": "ipython",
    "version": 3
   },
   "file_extension": ".py",
   "mimetype": "text/x-python",
   "name": "python",
   "nbconvert_exporter": "python",
   "pygments_lexer": "ipython3",
   "version": "3.9.4"
  },
  "orig_nbformat": 4,
  "vscode": {
   "interpreter": {
    "hash": "bf0c553b6161751b685220bcf1348fbbe7b5c4a42d195c2e7421759f76dba487"
   }
  }
 },
 "nbformat": 4,
 "nbformat_minor": 2
}
