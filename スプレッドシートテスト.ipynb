{
 "cells": [
  {
   "cell_type": "code",
   "execution_count": 52,
   "metadata": {},
   "outputs": [],
   "source": [
    "import streamlit as st\n",
    "import numpy as np\n",
    "import pandas as pd\n",
    "from PIL import Image\n",
    "import gspread\n",
    "import json\n",
    "import pandas as pd\n",
    "#ServiceAccountCredentials：Googleの各サービスへアクセスできるservice変数を生成します。\n",
    "from oauth2client.service_account import ServiceAccountCredentials\n",
    "\n",
    "#2つのAPIを記述しないとリフレッシュトークンを3600秒毎に発行し続けなければならない\n",
    "scope = ['https://spreadsheets.google.com/feeds','https://www.googleapis.com/auth/drive']\n",
    "json_path = 'kitaichi-fd2dd716665b.json'\n",
    "#認証情報設定\n",
    "#ダウンロードしたjsonファイル名をクレデンシャル変数に設定（秘密鍵、Pythonファイルから読み込みしやすい位置に置く）\n",
    "credentials = ServiceAccountCredentials.from_json_keyfile_name(json_path, scope)\n",
    "#OAuth2の資格情報を使用してGoogle APIにログインします。\n",
    "gc = gspread.authorize(credentials)\n",
    "# １．ファイル名を指定してワークブックを選択\n",
    "workbook = gc.open('収支表')\n",
    "sh_shop = workbook.worksheet('店一覧')\n",
    "sh_slot_kisyu = workbook.worksheet('スロット機種一覧')\n",
    "df_shop = pd.DataFrame(sh_shop.get_all_values()[1:], columns=sh_shop.get_all_values()[0])\n",
    "df_slot_kisyu = pd.DataFrame(sh_slot_kisyu.get_all_values()[1:], columns=sh_slot_kisyu.get_all_values()[0])\n",
    "sh = workbook.worksheet('収支')\n",
    "df = pd.DataFrame(sh.get_all_values()[1:], columns=sh.get_all_values()[0])"
   ]
  },
  {
   "cell_type": "code",
   "execution_count": 46,
   "metadata": {},
   "outputs": [
    {
     "data": {
      "text/plain": [
       "['2700', '-305', '900', '1000', '400', '900', '600']"
      ]
     },
     "execution_count": 46,
     "metadata": {},
     "output_type": "execute_result"
    }
   ],
   "source": [
    "list(df['期待値'])"
   ]
  },
  {
   "cell_type": "code",
   "execution_count": 48,
   "metadata": {},
   "outputs": [
    {
     "data": {
      "text/plain": [
       "6195"
      ]
     },
     "execution_count": 48,
     "metadata": {},
     "output_type": "execute_result"
    }
   ],
   "source": [
    "sum([int(i) for i in list(df['期待値'])])"
   ]
  },
  {
   "cell_type": "code",
   "execution_count": 49,
   "metadata": {},
   "outputs": [
    {
     "data": {
      "text/plain": [
       "3870"
      ]
     },
     "execution_count": 49,
     "metadata": {},
     "output_type": "execute_result"
    }
   ],
   "source": [
    "sum([int(i) for i in list(df['収支金額'])])"
   ]
  },
  {
   "cell_type": "code",
   "execution_count": 57,
   "metadata": {},
   "outputs": [
    {
     "data": {
      "text/plain": [
       "0    2700\n",
       "Name: 期待値, dtype: object"
      ]
     },
     "execution_count": 57,
     "metadata": {},
     "output_type": "execute_result"
    }
   ],
   "source": [
    "df[df['店舗名'] == 'ガイア小郡']['期待値']"
   ]
  },
  {
   "cell_type": "code",
   "execution_count": 53,
   "metadata": {},
   "outputs": [
    {
     "data": {
      "text/html": [
       "<div>\n",
       "<style scoped>\n",
       "    .dataframe tbody tr th:only-of-type {\n",
       "        vertical-align: middle;\n",
       "    }\n",
       "\n",
       "    .dataframe tbody tr th {\n",
       "        vertical-align: top;\n",
       "    }\n",
       "\n",
       "    .dataframe thead th {\n",
       "        text-align: right;\n",
       "    }\n",
       "</style>\n",
       "<table border=\"1\" class=\"dataframe\">\n",
       "  <thead>\n",
       "    <tr style=\"text-align: right;\">\n",
       "      <th></th>\n",
       "      <th>年月日</th>\n",
       "      <th>開始時間</th>\n",
       "      <th>終了時間</th>\n",
       "      <th>店舗名</th>\n",
       "      <th>台番号</th>\n",
       "      <th>機種名</th>\n",
       "      <th>開始G数</th>\n",
       "      <th>当選G数</th>\n",
       "      <th>ヤメG数</th>\n",
       "      <th>投資金額</th>\n",
       "      <th>投資メダル枚数</th>\n",
       "      <th>回収金額</th>\n",
       "      <th>回収メダル枚数</th>\n",
       "      <th>期待値</th>\n",
       "      <th>収支金額</th>\n",
       "      <th>収支メダル枚数</th>\n",
       "      <th>備考</th>\n",
       "    </tr>\n",
       "  </thead>\n",
       "  <tbody>\n",
       "    <tr>\n",
       "      <th>0</th>\n",
       "      <td>2022-12-02</td>\n",
       "      <td>10:54:38</td>\n",
       "      <td>15:36:50</td>\n",
       "      <td>ガイア小郡</td>\n",
       "      <td>1300</td>\n",
       "      <td>ヴァルヴレイヴ</td>\n",
       "      <td>856</td>\n",
       "      <td>1400</td>\n",
       "      <td>0</td>\n",
       "      <td>20680</td>\n",
       "      <td>1034</td>\n",
       "      <td>25000</td>\n",
       "      <td>1300</td>\n",
       "      <td>2700</td>\n",
       "      <td>4320</td>\n",
       "      <td>266</td>\n",
       "      <td></td>\n",
       "    </tr>\n",
       "    <tr>\n",
       "      <th>1</th>\n",
       "      <td>2022-12-05</td>\n",
       "      <td>16:28:17</td>\n",
       "      <td>16:29:09</td>\n",
       "      <td>ダイナム宇部港町店</td>\n",
       "      <td>130</td>\n",
       "      <td>ブラックラグーン</td>\n",
       "      <td>0</td>\n",
       "      <td>387</td>\n",
       "      <td>0</td>\n",
       "      <td>4500</td>\n",
       "      <td>450</td>\n",
       "      <td>1110</td>\n",
       "      <td>111</td>\n",
       "      <td>-305</td>\n",
       "      <td>-3390</td>\n",
       "      <td>-339</td>\n",
       "      <td></td>\n",
       "    </tr>\n",
       "    <tr>\n",
       "      <th>2</th>\n",
       "      <td>2022-12-05</td>\n",
       "      <td>16:32:34</td>\n",
       "      <td>16:33:10</td>\n",
       "      <td>ダイナム宇部港町店</td>\n",
       "      <td>61</td>\n",
       "      <td>花火絶景</td>\n",
       "      <td>351</td>\n",
       "      <td>457</td>\n",
       "      <td>0</td>\n",
       "      <td>1500</td>\n",
       "      <td>150</td>\n",
       "      <td>760</td>\n",
       "      <td>76</td>\n",
       "      <td>900</td>\n",
       "      <td>-740</td>\n",
       "      <td>-74</td>\n",
       "      <td></td>\n",
       "    </tr>\n",
       "    <tr>\n",
       "      <th>3</th>\n",
       "      <td>2022-12-05</td>\n",
       "      <td>16:33:59</td>\n",
       "      <td>16:34:51</td>\n",
       "      <td>ダイナム宇部港町店</td>\n",
       "      <td>62</td>\n",
       "      <td>花火絶景</td>\n",
       "      <td>431</td>\n",
       "      <td>513</td>\n",
       "      <td>0</td>\n",
       "      <td>1500</td>\n",
       "      <td>150</td>\n",
       "      <td>4120</td>\n",
       "      <td>412</td>\n",
       "      <td>1000</td>\n",
       "      <td>2620</td>\n",
       "      <td>262</td>\n",
       "      <td></td>\n",
       "    </tr>\n",
       "    <tr>\n",
       "      <th>4</th>\n",
       "      <td>2022-12-06</td>\n",
       "      <td>18:32:06</td>\n",
       "      <td>18:52:01</td>\n",
       "      <td>ダイナム宇部港町店</td>\n",
       "      <td>71</td>\n",
       "      <td>ガメラ</td>\n",
       "      <td>331</td>\n",
       "      <td>389</td>\n",
       "      <td>0</td>\n",
       "      <td>1000</td>\n",
       "      <td>100</td>\n",
       "      <td>6020</td>\n",
       "      <td>602</td>\n",
       "      <td>400</td>\n",
       "      <td>5020</td>\n",
       "      <td>502</td>\n",
       "      <td></td>\n",
       "    </tr>\n",
       "    <tr>\n",
       "      <th>5</th>\n",
       "      <td>2022-12-09</td>\n",
       "      <td>20:53:05</td>\n",
       "      <td>21:10:58</td>\n",
       "      <td>ダイナム宇部港町店</td>\n",
       "      <td>176</td>\n",
       "      <td>ニャル子さん</td>\n",
       "      <td>142</td>\n",
       "      <td>227</td>\n",
       "      <td>0</td>\n",
       "      <td>1500</td>\n",
       "      <td>150</td>\n",
       "      <td>780</td>\n",
       "      <td>78</td>\n",
       "      <td>900</td>\n",
       "      <td>-720</td>\n",
       "      <td>-72</td>\n",
       "      <td></td>\n",
       "    </tr>\n",
       "    <tr>\n",
       "      <th>6</th>\n",
       "      <td>2022-12-09</td>\n",
       "      <td>21:13:34</td>\n",
       "      <td>21:36:03</td>\n",
       "      <td>ダイナム宇部港町店</td>\n",
       "      <td>97</td>\n",
       "      <td>番長ゼロ</td>\n",
       "      <td>359</td>\n",
       "      <td>592</td>\n",
       "      <td>0</td>\n",
       "      <td>4000</td>\n",
       "      <td>400</td>\n",
       "      <td>760</td>\n",
       "      <td>76</td>\n",
       "      <td>600</td>\n",
       "      <td>-3240</td>\n",
       "      <td>-324</td>\n",
       "      <td></td>\n",
       "    </tr>\n",
       "  </tbody>\n",
       "</table>\n",
       "</div>"
      ],
      "text/plain": [
       "          年月日      開始時間      終了時間        店舗名   台番号       機種名 開始G数  当選G数 ヤメG数  \\\n",
       "0  2022-12-02  10:54:38  15:36:50      ガイア小郡  1300   ヴァルヴレイヴ  856  1400    0   \n",
       "1  2022-12-05  16:28:17  16:29:09  ダイナム宇部港町店   130  ブラックラグーン    0   387    0   \n",
       "2  2022-12-05  16:32:34  16:33:10  ダイナム宇部港町店    61      花火絶景  351   457    0   \n",
       "3  2022-12-05  16:33:59  16:34:51  ダイナム宇部港町店    62      花火絶景  431   513    0   \n",
       "4  2022-12-06  18:32:06  18:52:01  ダイナム宇部港町店    71       ガメラ  331   389    0   \n",
       "5  2022-12-09  20:53:05  21:10:58  ダイナム宇部港町店   176    ニャル子さん  142   227    0   \n",
       "6  2022-12-09  21:13:34  21:36:03  ダイナム宇部港町店    97      番長ゼロ  359   592    0   \n",
       "\n",
       "    投資金額 投資メダル枚数   回収金額 回収メダル枚数   期待値   収支金額 収支メダル枚数 備考  \n",
       "0  20680    1034  25000    1300  2700   4320     266     \n",
       "1   4500     450   1110     111  -305  -3390    -339     \n",
       "2   1500     150    760      76   900   -740     -74     \n",
       "3   1500     150   4120     412  1000   2620     262     \n",
       "4   1000     100   6020     602   400   5020     502     \n",
       "5   1500     150    780      78   900   -720     -72     \n",
       "6   4000     400    760      76   600  -3240    -324     "
      ]
     },
     "execution_count": 53,
     "metadata": {},
     "output_type": "execute_result"
    }
   ],
   "source": [
    "df"
   ]
  },
  {
   "cell_type": "code",
   "execution_count": 93,
   "metadata": {},
   "outputs": [
    {
     "name": "stdout",
     "output_type": "stream",
     "text": [
      "['2022-12-05', '2022-12-09', '2022-12-02', '2022-12-06']\n"
     ]
    }
   ],
   "source": [
    "days_list=[]\n",
    "day_list = list(set(df['年月日']))\n",
    "for day in day_list:\n",
    "    day_df = df[df['年月日']==day]\n",
    "    sum([int(i) for i in list(day_df['期待値'])])\n",
    "    sum([int(i) for i in list(day_df['収支金額'])])\n",
    "    days_list.append([day,sum([int(i) for i in list(day_df['期待値'])]),sum([int(i) for i in list(day_df['収支金額'])])])\n",
    "day_df = pd.DataFrame(days_list,columns=['年月日','期待値','収支金額']).sort_values('年月日').reset_index(drop=True)\n",
    "suii_list = []\n",
    "kitaiti_sum = 0\n",
    "syushi_sum = 0\n",
    "for i in range(len(list(day_df['期待値']))):\n",
    "    if i == 0:\n",
    "        kitaiti_sum = list(day_df['期待値'])[i]\n",
    "        syushi_sum = list(day_df['収支金額'])[i]\n",
    "    else:\n",
    "        kitaiti_sum = list(day_df['期待値'])[i] + kitaiti_sum\n",
    "        syushi_sum = list(day_df['収支金額'])[i] + syushi_sum\n",
    "    \n",
    "    suii_list.append([list(day_df['年月日'])[i],kitaiti_sum,syushi_sum])\n",
    "suii_df = pd.DataFrame(suii_list,columns=['年月日','期待値','収支金額'])"
   ]
  },
  {
   "cell_type": "code",
   "execution_count": 94,
   "metadata": {},
   "outputs": [
    {
     "data": {
      "text/html": [
       "<div>\n",
       "<style scoped>\n",
       "    .dataframe tbody tr th:only-of-type {\n",
       "        vertical-align: middle;\n",
       "    }\n",
       "\n",
       "    .dataframe tbody tr th {\n",
       "        vertical-align: top;\n",
       "    }\n",
       "\n",
       "    .dataframe thead th {\n",
       "        text-align: right;\n",
       "    }\n",
       "</style>\n",
       "<table border=\"1\" class=\"dataframe\">\n",
       "  <thead>\n",
       "    <tr style=\"text-align: right;\">\n",
       "      <th></th>\n",
       "      <th>年月日</th>\n",
       "      <th>期待値</th>\n",
       "      <th>収支金額</th>\n",
       "    </tr>\n",
       "  </thead>\n",
       "  <tbody>\n",
       "    <tr>\n",
       "      <th>0</th>\n",
       "      <td>2022-12-02</td>\n",
       "      <td>2700</td>\n",
       "      <td>4320</td>\n",
       "    </tr>\n",
       "    <tr>\n",
       "      <th>1</th>\n",
       "      <td>2022-12-05</td>\n",
       "      <td>4295</td>\n",
       "      <td>2810</td>\n",
       "    </tr>\n",
       "    <tr>\n",
       "      <th>2</th>\n",
       "      <td>2022-12-06</td>\n",
       "      <td>4695</td>\n",
       "      <td>7830</td>\n",
       "    </tr>\n",
       "    <tr>\n",
       "      <th>3</th>\n",
       "      <td>2022-12-09</td>\n",
       "      <td>6195</td>\n",
       "      <td>3870</td>\n",
       "    </tr>\n",
       "  </tbody>\n",
       "</table>\n",
       "</div>"
      ],
      "text/plain": [
       "          年月日   期待値  収支金額\n",
       "0  2022-12-02  2700  4320\n",
       "1  2022-12-05  4295  2810\n",
       "2  2022-12-06  4695  7830\n",
       "3  2022-12-09  6195  3870"
      ]
     },
     "execution_count": 94,
     "metadata": {},
     "output_type": "execute_result"
    }
   ],
   "source": [
    "suii_df"
   ]
  },
  {
   "cell_type": "code",
   "execution_count": null,
   "metadata": {},
   "outputs": [],
   "source": []
  }
 ],
 "metadata": {
  "kernelspec": {
   "display_name": "Python 3.9.4 64-bit",
   "language": "python",
   "name": "python3"
  },
  "language_info": {
   "codemirror_mode": {
    "name": "ipython",
    "version": 3
   },
   "file_extension": ".py",
   "mimetype": "text/x-python",
   "name": "python",
   "nbconvert_exporter": "python",
   "pygments_lexer": "ipython3",
   "version": "3.9.4"
  },
  "orig_nbformat": 4,
  "vscode": {
   "interpreter": {
    "hash": "bf0c553b6161751b685220bcf1348fbbe7b5c4a42d195c2e7421759f76dba487"
   }
  }
 },
 "nbformat": 4,
 "nbformat_minor": 2
}
